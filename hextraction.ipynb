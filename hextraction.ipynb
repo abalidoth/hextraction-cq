{
 "cells": [
  {
   "cell_type": "code",
   "execution_count": 7,
   "id": "2251351a-5a42-42e2-bba9-3b63ff1497b8",
   "metadata": {
    "tags": []
   },
   "outputs": [
    {
     "name": "stdout",
     "output_type": "stream",
     "text": [
      "\n",
      "Enabling jupyter_cadquery replay\n"
     ]
    }
   ],
   "source": [
    "import cadquery as cq\n",
    "from jupyter_cadquery import (\n",
    "    PartGroup, Part, Edges, Faces, Vertices, show,\n",
    "    close_viewer, close_viewers, get_viewer, open_viewer, set_defaults, get_defaults\n",
    ")\n",
    "\n",
    "from jupyter_cadquery.replay import replay, enable_replay, disable_replay, reset_replay\n",
    "\n",
    "set_defaults(axes=True, timeit=False)\n",
    "\n",
    "cv = open_viewer(\"Examples\", cad_width=640, height=480, glass=True)\n",
    "\n",
    "enable_replay(False, False)\n",
    "show_object = replay"
   ]
  },
  {
   "cell_type": "markdown",
   "id": "2cf3b1c4-95ef-4040-ac95-bfb807a387d5",
   "metadata": {},
   "source": [
    "### You shouldn't need to update anything here, except possibly `tile_height`."
   ]
  },
  {
   "cell_type": "code",
   "execution_count": 8,
   "id": "43d4e63d-416a-44ec-912a-eadfaaa5b74b",
   "metadata": {
    "tags": []
   },
   "outputs": [],
   "source": [
    "#Basic tile dimensions\n",
    "\n",
    "tile_height = 15 #This one might need modified for your design.\n",
    "tile_width = 50\n",
    "tile_radius = tile_width/3**0.5\n",
    "base_width = 46\n",
    "upper_edge_fillet = 1\n",
    "lower_edge_chamfer = (tile_width - base_width)/2\n",
    "corner_fillet = 4\n",
    "\n",
    "socket_height = 3\n",
    "socket_depth = 5\n",
    "socket_width = 13\n",
    "\n",
    "top_height = tile_height - socket_height\n",
    "\n",
    "# Dimensions of the basic ball channel.\n",
    "\n",
    "channel_width = 11\n",
    "channel_radius = channel_width/2\n",
    "channel_flat_distance = 2\n",
    "channel_throat_depth = 1\n",
    "channel_throat_restriction = 1\n",
    "channel_throat_flat = 0.5\n",
    "\n",
    "channel_throat_width = channel_width - 2*channel_throat_restriction"
   ]
  },
  {
   "cell_type": "markdown",
   "id": "0f5c53a2-313a-43c4-b86e-39111ef0d828",
   "metadata": {
    "tags": []
   },
   "source": [
    "### This code produces the basic blank Hextraction tile."
   ]
  },
  {
   "cell_type": "code",
   "execution_count": 11,
   "id": "94aa2b9f-ce40-4816-ae41-2b49d4d8cfd7",
   "metadata": {
    "tags": []
   },
   "outputs": [
    {
     "name": "stdout",
     "output_type": "stream",
     "text": [
      "Use the multi select box below to select one or more steps you want to examine\n"
     ]
    },
    {
     "data": {
      "application/vnd.jupyter.widget-view+json": {
       "model_id": "84285e13f0ae47e8b696a145679ce2d3",
       "version_major": 2,
       "version_minor": 0
      },
      "text/plain": [
       "HBox(children=(SelectMultiple(_dom_classes=('monospace',), index=(14,), layout=Layout(width='600px'), options=…"
      ]
     },
     "metadata": {},
     "output_type": "display_data"
    },
    {
     "data": {
      "text/plain": [
       "<jupyter_cadquery.replay.Replay at 0x7f9288183880>"
      ]
     },
     "execution_count": 11,
     "metadata": {},
     "output_type": "execute_result"
    }
   ],
   "source": [
    "hex_base = (\n",
    "    cq.Workplane(\"XY\")\n",
    "    .polygon(6,tile_width, circumscribed=True)\n",
    "    .extrude(top_height)\n",
    "    .edges(\"|Z\").fillet(corner_fillet)\n",
    "    .edges(\">Z\").fillet(upper_edge_fillet)\n",
    "    .edges(\"<Z\").chamfer(lower_edge_chamfer)\n",
    "    .wires(\"<Z\").toPending()\n",
    "    .extrude(-socket_height)\n",
    "    .faces(\"<Z\").workplane()\n",
    "    .polarArray(radius= base_width/2-socket_depth/2, angle=360, count=6, startAngle=0)\n",
    "    .rect(socket_depth, socket_width)\n",
    "    .cutBlind(-socket_height)\n",
    ")\n",
    "show_object(hex_base)"
   ]
  },
  {
   "cell_type": "markdown",
   "id": "3ea0882b-ec0a-40e5-a062-9b3fa29c5877",
   "metadata": {},
   "source": [
    "### And an example hex with a channel through it."
   ]
  },
  {
   "cell_type": "code",
   "execution_count": 12,
   "id": "aa8de90e-218f-444a-a0ca-a7c0e93163ef",
   "metadata": {
    "tags": []
   },
   "outputs": [
    {
     "name": "stdout",
     "output_type": "stream",
     "text": [
      "Use the multi select box below to select one or more steps you want to examine\n"
     ]
    },
    {
     "data": {
      "application/vnd.jupyter.widget-view+json": {
       "model_id": "4a1b73259fa349bdba3b50d36261175e",
       "version_major": 2,
       "version_minor": 0
      },
      "text/plain": [
       "HBox(children=(SelectMultiple(_dom_classes=('monospace',), index=(13,), layout=Layout(width='600px'), options=…"
      ]
     },
     "metadata": {},
     "output_type": "display_data"
    },
    {
     "data": {
      "text/plain": [
       "<jupyter_cadquery.replay.Replay at 0x7f928b276f40>"
      ]
     },
     "execution_count": 12,
     "metadata": {},
     "output_type": "execute_result"
    }
   ],
   "source": [
    "channel_profile = (\n",
    "    cq.Workplane(\"YZ\")\n",
    "    .center(0,top_height/2)\n",
    "    .moveTo(-channel_throat_width/2, 0)\n",
    "    .vLine(-channel_throat_flat)\n",
    "    .line(-channel_throat_restriction,-channel_throat_depth)\n",
    "    .vLine(-channel_flat_distance)\n",
    "    .tangentArcPoint((channel_width,0))\n",
    "    .vLine(channel_flat_distance)\n",
    "    .line(-channel_throat_restriction, channel_throat_depth)\n",
    "    .vLine(channel_throat_flat)\n",
    "    .close()\n",
    ")\n",
    "# )\n",
    "# hex_with_channel = (\n",
    "#     hex_base\n",
    "#     .faces(\">X\").workplane()\n",
    "#     .extrude(10)\n",
    "# )\n",
    "channel_end = (3*tile_radius/4, 3*tile_width/4)\n",
    "channel_path = (\n",
    "    cq.Workplane(\"YX\")\n",
    "    .move(0,-1)\n",
    "    .vLine(1, forConstruction=True)\n",
    "    .tangentArcPoint(channel_end)\n",
    ")\n",
    "\n",
    "channel_example = channel_profile.sweep(channel_path)\n",
    "show_object(channel_example)"
   ]
  },
  {
   "cell_type": "code",
   "execution_count": 13,
   "id": "35b01c01-7894-4a03-9abf-5b60ad2abefd",
   "metadata": {
    "tags": []
   },
   "outputs": [
    {
     "name": "stdout",
     "output_type": "stream",
     "text": [
      "Use the multi select box below to select one or more steps you want to examine\n"
     ]
    },
    {
     "data": {
      "application/vnd.jupyter.widget-view+json": {
       "model_id": "6db96737f2c1433dbbc916f15d5deeee",
       "version_major": 2,
       "version_minor": 0
      },
      "text/plain": [
       "HBox(children=(SelectMultiple(_dom_classes=('monospace',), index=(30,), layout=Layout(width='600px'), options=…"
      ]
     },
     "metadata": {},
     "output_type": "display_data"
    },
    {
     "data": {
      "text/plain": [
       "<jupyter_cadquery.replay.Replay at 0x7f9283959cd0>"
      ]
     },
     "execution_count": 13,
     "metadata": {},
     "output_type": "execute_result"
    }
   ],
   "source": [
    "channel_tile = (\n",
    "    hex_base -\n",
    "    channel_example\n",
    "    .translate((-tile_width/2,0,top_height/2))\n",
    ")\n",
    "\n",
    "show_object(channel_tile)"
   ]
  },
  {
   "cell_type": "code",
   "execution_count": null,
   "id": "d29a8523-fdda-4b77-93d6-298fe981dddb",
   "metadata": {},
   "outputs": [],
   "source": []
  },
  {
   "cell_type": "code",
   "execution_count": null,
   "id": "beade691-37f3-4fe4-b5e8-78d71a7422c5",
   "metadata": {},
   "outputs": [],
   "source": []
  }
 ],
 "metadata": {
  "kernelspec": {
   "display_name": "Python 3 (ipykernel)",
   "language": "python",
   "name": "python3"
  },
  "language_info": {
   "codemirror_mode": {
    "name": "ipython",
    "version": 3
   },
   "file_extension": ".py",
   "mimetype": "text/x-python",
   "name": "python",
   "nbconvert_exporter": "python",
   "pygments_lexer": "ipython3",
   "version": "3.8.16"
  }
 },
 "nbformat": 4,
 "nbformat_minor": 5
}
